{
 "cells": [
  {
   "cell_type": "code",
   "execution_count": 2,
   "metadata": {},
   "outputs": [],
   "source": [
    "import pandas as pd\n",
    "import json\n",
    "import os"
   ]
  },
  {
   "cell_type": "code",
   "execution_count": 3,
   "metadata": {},
   "outputs": [],
   "source": [
    "def create_meta(fname):\n",
    "    df = pd.read_csv(fname)\n",
    "    obj = {}\n",
    "    for col in df.columns:\n",
    "        if df[col].dtype == \"float64\" or df[col].dtype == \"int64\":\n",
    "            l = {}\n",
    "            l['count'] = df[col].describe()['count']\n",
    "            l['mean'] = df[col].describe()['mean']\n",
    "            l['std'] = df[col].describe()['std']\n",
    "            l['min'] = df[col].describe()['min']\n",
    "            l['25%'] = df[col].describe()['25%']\n",
    "            l['50%'] = df[col].describe()['50%']\n",
    "            l['75%'] = df[col].describe()['75%']\n",
    "            l['max'] = df[col].describe()['max']\n",
    "            obj[col] = l\n",
    "    return obj"
   ]
  },
  {
   "cell_type": "code",
   "execution_count": 4,
   "metadata": {},
   "outputs": [],
   "source": [
    "ip_file=open('final_schema.txt','r')\n",
    "op_file=open('meta_data.txt','w')\n",
    "for line in ip_file.readlines():\n",
    "    json_obj=json.loads(line)\n",
    "    x={\"filename\":json_obj[\"filename\"]}\n",
    "    x[\"meta-data\"]=create_meta(json_obj[\"filename\"])\n",
    "    jsonstr = json.dumps(x)\n",
    "    op_file.write(jsonstr+\"\\n\")"
   ]
  },
  {
   "cell_type": "code",
   "execution_count": 5,
   "metadata": {},
   "outputs": [],
   "source": [
    "ip_file.close()\n",
    "op_file.close()"
   ]
  },
  {
   "cell_type": "code",
   "execution_count": null,
   "metadata": {},
   "outputs": [],
   "source": []
  }
 ],
 "metadata": {
  "kernelspec": {
   "display_name": "Python 3",
   "language": "python",
   "name": "python3"
  },
  "language_info": {
   "codemirror_mode": {
    "name": "ipython",
    "version": 3
   },
   "file_extension": ".py",
   "mimetype": "text/x-python",
   "name": "python",
   "nbconvert_exporter": "python",
   "pygments_lexer": "ipython3",
   "version": "3.6.7"
  }
 },
 "nbformat": 4,
 "nbformat_minor": 2
}
