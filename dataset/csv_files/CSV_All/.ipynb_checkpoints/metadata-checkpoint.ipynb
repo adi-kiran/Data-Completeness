{
 "cells": [
  {
   "cell_type": "code",
   "execution_count": 1,
   "metadata": {},
   "outputs": [],
   "source": [
    "import pandas as pd\n",
    "import numpy as np\n",
    "import re\n",
    "import json\n",
    "import os"
   ]
  },
  {
   "cell_type": "code",
   "execution_count": null,
   "metadata": {},
   "outputs": [],
   "source": [
    "def create_schema(fname):\n",
    "    print(fname)\n",
    "    try:\n",
    "        data = pd.read_csv(fname)\n",
    "        data.describe()\n",
    "    except pd.errors.ParserError:\n",
    "        with open(\"errors_meta.txt\",'a') as error_file:\n",
    "            print(f\"Filename: {fname}\", file=error_file)"
   ]
  },
  {
   "cell_type": "code",
   "execution_count": null,
   "metadata": {},
   "outputs": [],
   "source": [
    "global count\n",
    "count=0\n",
    "for root, dirs, files in os.walk('.'):\n",
    "   for fname in files:\n",
    "       create_meta(fname) "
   ]
  }
 ],
 "metadata": {
  "kernelspec": {
   "display_name": "Python 3",
   "language": "python",
   "name": "python3"
  },
  "language_info": {
   "codemirror_mode": {
    "name": "ipython",
    "version": 3
   },
   "file_extension": ".py",
   "mimetype": "text/x-python",
   "name": "python",
   "nbconvert_exporter": "python",
   "pygments_lexer": "ipython3",
   "version": "3.7.0"
  }
 },
 "nbformat": 4,
 "nbformat_minor": 2
}
