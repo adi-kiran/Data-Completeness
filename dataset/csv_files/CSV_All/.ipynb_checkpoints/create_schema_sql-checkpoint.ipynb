{
 "cells": [
  {
   "cell_type": "code",
   "execution_count": 3,
   "metadata": {},
   "outputs": [],
   "source": [
    "import pandas as pd\n",
    "import json\n",
    "import os"
   ]
  },
  {
   "cell_type": "code",
   "execution_count": 4,
   "metadata": {},
   "outputs": [],
   "source": [
    "def create_schema(fname):\n",
    "    try:\n",
    "        print(fname)\n",
    "        data = pd.read_csv(fname)\n",
    "        table_object={\"tablename\": fname, \"schema\":{}}\n",
    "        x=data.dtypes\n",
    "        y=data.columns\n",
    "        z=zip(y,x)\n",
    "        str=\"CREATE TABLE \"+fname+\" ( \"\n",
    "        for a,b in z:\n",
    "            if(b=='int64' or b=='int32'):\n",
    "                b=\"INTEGER\"\n",
    "            elif b==\"float64\" or b==\"float32\":\n",
    "                b=\"DECIMAL\"\n",
    "            else:\n",
    "                b=\"VARCHAR(5)\"\n",
    "            str+=a+\" \"+b+\",\"\n",
    "        str=str[:-1]+\" );\"\n",
    "        f = open('all_schemas_sql.txt','a')\n",
    "        f.write(str)\n",
    "        f.write(\"\\n\")\n",
    "        f.close()\n",
    "        global count\n",
    "        count+=1\n",
    "    except pd.errors.ParserError:\n",
    "        with open(\"errors_mysql.txt\",'a') as error_file:\n",
    "            print(f\"Filename: {fname}\", file=error_file)"
   ]
  },
  {
   "cell_type": "code",
   "execution_count": 5,
   "metadata": {},
   "outputs": [
    {
     "name": "stdout",
     "output_type": "stream",
     "text": [
      "200_0.csv\n",
      "200_1.csv\n",
      "200_10.csv\n",
      "200_11.csv\n",
      "200_12.csv\n",
      "200_14.csv\n",
      "200_15.csv\n",
      "200_17.csv\n",
      "200_18.csv\n",
      "200_20.csv\n",
      "200_22.csv\n",
      "200_24.csv\n",
      "200_25.csv\n",
      "200_26.csv\n",
      "200_28.csv\n",
      "200_29.csv\n",
      "200_3.csv\n",
      "200_30.csv\n",
      "200_31.csv\n",
      "200_32.csv\n",
      "200_33.csv\n",
      "200_34.csv\n",
      "200_35.csv\n",
      "200_36.csv\n",
      "200_37.csv\n",
      "200_38.csv\n",
      "200_4.csv\n",
      "200_41.csv\n",
      "200_42.csv\n",
      "200_44.csv\n",
      "200_45.csv\n",
      "200_46.csv\n",
      "200_47.csv\n",
      "200_48.csv\n",
      "200_7.csv\n",
      "200_8.csv\n",
      "200_9.csv\n",
      "201_0.csv\n",
      "201_1.csv\n",
      "201_10.csv\n",
      "201_11.csv\n",
      "201_13.csv\n",
      "201_14.csv\n",
      "201_15.csv\n",
      "201_17.csv\n",
      "201_18.csv\n",
      "201_19.csv\n",
      "201_2.csv\n",
      "201_20.csv\n",
      "201_21.csv\n",
      "201_22.csv\n",
      "201_23.csv\n",
      "201_24.csv\n",
      "201_25.csv\n",
      "201_26.csv\n",
      "201_27.csv\n",
      "201_28.csv\n",
      "201_29.csv\n",
      "201_3.csv\n",
      "201_30.csv\n",
      "201_31.csv\n",
      "201_33.csv\n",
      "201_34.csv\n",
      "201_35.csv\n",
      "201_36.csv\n",
      "201_37.csv\n",
      "201_38.csv\n",
      "201_39.csv\n"
     ]
    },
    {
     "ename": "UnicodeEncodeError",
     "evalue": "'charmap' codec can't encode character '\\u2116' in position 26: character maps to <undefined>",
     "output_type": "error",
     "traceback": [
      "\u001b[1;31m---------------------------------------------------------------------------\u001b[0m",
      "\u001b[1;31mUnicodeEncodeError\u001b[0m                        Traceback (most recent call last)",
      "\u001b[1;32m<ipython-input-5-98fd1f6efb2e>\u001b[0m in \u001b[0;36m<module>\u001b[1;34m\u001b[0m\n\u001b[0;32m      3\u001b[0m \u001b[1;32mfor\u001b[0m \u001b[0mroot\u001b[0m\u001b[1;33m,\u001b[0m \u001b[0mdirs\u001b[0m\u001b[1;33m,\u001b[0m \u001b[0mfiles\u001b[0m \u001b[1;32min\u001b[0m \u001b[0mos\u001b[0m\u001b[1;33m.\u001b[0m\u001b[0mwalk\u001b[0m\u001b[1;33m(\u001b[0m\u001b[1;34m'.'\u001b[0m\u001b[1;33m)\u001b[0m\u001b[1;33m:\u001b[0m\u001b[1;33m\u001b[0m\u001b[1;33m\u001b[0m\u001b[0m\n\u001b[0;32m      4\u001b[0m    \u001b[1;32mfor\u001b[0m \u001b[0mfname\u001b[0m \u001b[1;32min\u001b[0m \u001b[0mfiles\u001b[0m\u001b[1;33m:\u001b[0m\u001b[1;33m\u001b[0m\u001b[1;33m\u001b[0m\u001b[0m\n\u001b[1;32m----> 5\u001b[1;33m        \u001b[0mcreate_schema\u001b[0m\u001b[1;33m(\u001b[0m\u001b[0mfname\u001b[0m\u001b[1;33m)\u001b[0m\u001b[1;33m\u001b[0m\u001b[1;33m\u001b[0m\u001b[0m\n\u001b[0m",
      "\u001b[1;32m<ipython-input-4-c0e3a6ca3691>\u001b[0m in \u001b[0;36mcreate_schema\u001b[1;34m(fname)\u001b[0m\n\u001b[0;32m     18\u001b[0m         \u001b[0mstr\u001b[0m\u001b[1;33m=\u001b[0m\u001b[0mstr\u001b[0m\u001b[1;33m[\u001b[0m\u001b[1;33m:\u001b[0m\u001b[1;33m-\u001b[0m\u001b[1;36m1\u001b[0m\u001b[1;33m]\u001b[0m\u001b[1;33m+\u001b[0m\u001b[1;34m\" );\"\u001b[0m\u001b[1;33m\u001b[0m\u001b[1;33m\u001b[0m\u001b[0m\n\u001b[0;32m     19\u001b[0m         \u001b[0mf\u001b[0m \u001b[1;33m=\u001b[0m \u001b[0mopen\u001b[0m\u001b[1;33m(\u001b[0m\u001b[1;34m'all_schemas_sql.txt'\u001b[0m\u001b[1;33m,\u001b[0m\u001b[1;34m'a'\u001b[0m\u001b[1;33m)\u001b[0m\u001b[1;33m\u001b[0m\u001b[1;33m\u001b[0m\u001b[0m\n\u001b[1;32m---> 20\u001b[1;33m         \u001b[0mf\u001b[0m\u001b[1;33m.\u001b[0m\u001b[0mwrite\u001b[0m\u001b[1;33m(\u001b[0m\u001b[0mstr\u001b[0m\u001b[1;33m+\u001b[0m\u001b[1;34m\"\\n\"\u001b[0m\u001b[1;33m)\u001b[0m\u001b[1;33m\u001b[0m\u001b[1;33m\u001b[0m\u001b[0m\n\u001b[0m\u001b[0;32m     21\u001b[0m         \u001b[0mf\u001b[0m\u001b[1;33m.\u001b[0m\u001b[0mclose\u001b[0m\u001b[1;33m(\u001b[0m\u001b[1;33m)\u001b[0m\u001b[1;33m\u001b[0m\u001b[1;33m\u001b[0m\u001b[0m\n\u001b[0;32m     22\u001b[0m         \u001b[1;32mglobal\u001b[0m \u001b[0mcount\u001b[0m\u001b[1;33m\u001b[0m\u001b[1;33m\u001b[0m\u001b[0m\n",
      "\u001b[1;32m~\\Anaconda3\\envs\\tf_gpu\\lib\\encodings\\cp1252.py\u001b[0m in \u001b[0;36mencode\u001b[1;34m(self, input, final)\u001b[0m\n\u001b[0;32m     17\u001b[0m \u001b[1;32mclass\u001b[0m \u001b[0mIncrementalEncoder\u001b[0m\u001b[1;33m(\u001b[0m\u001b[0mcodecs\u001b[0m\u001b[1;33m.\u001b[0m\u001b[0mIncrementalEncoder\u001b[0m\u001b[1;33m)\u001b[0m\u001b[1;33m:\u001b[0m\u001b[1;33m\u001b[0m\u001b[1;33m\u001b[0m\u001b[0m\n\u001b[0;32m     18\u001b[0m     \u001b[1;32mdef\u001b[0m \u001b[0mencode\u001b[0m\u001b[1;33m(\u001b[0m\u001b[0mself\u001b[0m\u001b[1;33m,\u001b[0m \u001b[0minput\u001b[0m\u001b[1;33m,\u001b[0m \u001b[0mfinal\u001b[0m\u001b[1;33m=\u001b[0m\u001b[1;32mFalse\u001b[0m\u001b[1;33m)\u001b[0m\u001b[1;33m:\u001b[0m\u001b[1;33m\u001b[0m\u001b[1;33m\u001b[0m\u001b[0m\n\u001b[1;32m---> 19\u001b[1;33m         \u001b[1;32mreturn\u001b[0m \u001b[0mcodecs\u001b[0m\u001b[1;33m.\u001b[0m\u001b[0mcharmap_encode\u001b[0m\u001b[1;33m(\u001b[0m\u001b[0minput\u001b[0m\u001b[1;33m,\u001b[0m\u001b[0mself\u001b[0m\u001b[1;33m.\u001b[0m\u001b[0merrors\u001b[0m\u001b[1;33m,\u001b[0m\u001b[0mencoding_table\u001b[0m\u001b[1;33m)\u001b[0m\u001b[1;33m[\u001b[0m\u001b[1;36m0\u001b[0m\u001b[1;33m]\u001b[0m\u001b[1;33m\u001b[0m\u001b[1;33m\u001b[0m\u001b[0m\n\u001b[0m\u001b[0;32m     20\u001b[0m \u001b[1;33m\u001b[0m\u001b[0m\n\u001b[0;32m     21\u001b[0m \u001b[1;32mclass\u001b[0m \u001b[0mIncrementalDecoder\u001b[0m\u001b[1;33m(\u001b[0m\u001b[0mcodecs\u001b[0m\u001b[1;33m.\u001b[0m\u001b[0mIncrementalDecoder\u001b[0m\u001b[1;33m)\u001b[0m\u001b[1;33m:\u001b[0m\u001b[1;33m\u001b[0m\u001b[1;33m\u001b[0m\u001b[0m\n",
      "\u001b[1;31mUnicodeEncodeError\u001b[0m: 'charmap' codec can't encode character '\\u2116' in position 26: character maps to <undefined>"
     ]
    }
   ],
   "source": [
    "global count\n",
    "count=0\n",
    "for root, dirs, files in os.walk('.'):\n",
    "   for fname in files:\n",
    "       create_schema(fname)"
   ]
  },
  {
   "cell_type": "code",
   "execution_count": null,
   "metadata": {},
   "outputs": [],
   "source": []
  }
 ],
 "metadata": {
  "kernelspec": {
   "display_name": "Python 3",
   "language": "python",
   "name": "python3"
  },
  "language_info": {
   "codemirror_mode": {
    "name": "ipython",
    "version": 3
   },
   "file_extension": ".py",
   "mimetype": "text/x-python",
   "name": "python",
   "nbconvert_exporter": "python",
   "pygments_lexer": "ipython3",
   "version": "3.7.0"
  }
 },
 "nbformat": 4,
 "nbformat_minor": 2
}
