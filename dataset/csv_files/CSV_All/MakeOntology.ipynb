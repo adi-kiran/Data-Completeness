{
 "cells": [
  {
   "cell_type": "code",
   "execution_count": 3,
   "metadata": {},
   "outputs": [],
   "source": [
    "import pandas as pd\n",
    "import numpy as np\n",
    "import re\n",
    "import json\n",
    "from nltk.corpus import wordnet"
   ]
  },
  {
   "cell_type": "code",
   "execution_count": 184,
   "metadata": {},
   "outputs": [],
   "source": [
    "ontology={}"
   ]
  },
  {
   "cell_type": "code",
   "execution_count": 185,
   "metadata": {},
   "outputs": [],
   "source": [
    "f=open(\"all_schemas_json.txt\",'r')\n",
    "for line in f.readlines():\n",
    "    json_object=json.loads(line)\n",
    "    table=json_object[\"tablename\"]\n",
    "    schema=json_object[\"schema\"]\n",
    "    for i in schema:\n",
    "        if i not in ontology:\n",
    "            meanings=set()\n",
    "            for synset in wordnet.synsets(i,pos=wordnet.NOUN):\n",
    "                for lemma in synset.lemmas():\n",
    "                    meanings.add(lemma.name())\n",
    "            for synset in wordnet.synsets(i,pos=wordnet.NOUN):\n",
    "                for hypernym in synset.hypernyms():\n",
    "                    meanings.add(hypernym.lemma_names()[0])\n",
    "            if meanings!=set():\n",
    "                ontology[i]=list(meanings)\n",
    "f.close()\n",
    "with open('ontology.txt', 'w') as outfile:  \n",
    "    json.dump(ontology,outfile)"
   ]
  }
 ],
 "metadata": {
  "kernelspec": {
   "display_name": "Python 3",
   "language": "python",
   "name": "python3"
  },
  "language_info": {
   "codemirror_mode": {
    "name": "ipython",
    "version": 3
   },
   "file_extension": ".py",
   "mimetype": "text/x-python",
   "name": "python",
   "nbconvert_exporter": "python",
   "pygments_lexer": "ipython3",
   "version": "3.6.7"
  }
 },
 "nbformat": 4,
 "nbformat_minor": 2
}
