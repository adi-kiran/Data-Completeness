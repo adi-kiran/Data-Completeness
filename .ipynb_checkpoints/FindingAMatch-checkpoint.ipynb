{
 "cells": [
  {
   "cell_type": "code",
   "execution_count": 1,
   "metadata": {},
   "outputs": [],
   "source": [
    "import pandas\n",
    "import os\n",
    "import re\n",
    "import json\n",
    "from nltk.corpus import wordnet"
   ]
  },
  {
   "cell_type": "code",
   "execution_count": 5,
   "metadata": {},
   "outputs": [],
   "source": [
    "with open(\"input.txt\",'r') as input_file:\n",
    "    input_obj=json.load(input_file)\n",
    "    input_schema = input_obj[\"schema\"]\n",
    "    onto=generate_ontology()\n",
    "    total=0\n",
    "    for i in input_schema:\n",
    "        total+=1\n",
    "    if \"tablename\" in input_obj:\n",
    "        input_table = input_obj[\"tablename\"]\n",
    "        searchTable()\n",
    "    else:\n",
    "        searchAll()"
   ]
  },
  {
   "cell_type": "code",
   "execution_count": 3,
   "metadata": {},
   "outputs": [],
   "source": [
    "def searchTable():\n",
    "    op = open(\"Output_match.txt\",'w')\n",
    "    op.write(\"Format of output is : Table_Name    Column_Name    Data_Type\\n\")\n",
    "    f=open(\"all_schemas_json.txt\",'r')\n",
    "    for line in f.readlines():\n",
    "        json_object=json.loads(line)\n",
    "        table=json_object[\"tablename\"]\n",
    "        schema=json_object[\"schema\"]\n",
    "        if table in input_table:\n",
    "            count=0\n",
    "            for col,dtype in schema.items():\n",
    "                if (col in input_schema) and (input_schema[col]==dtype):\n",
    "                    count+=1\n",
    "                    op.write(table+'\\t\\t\\t'+col+'\\t\\t\\t'+dtype+'\\n')\n",
    "            global total\n",
    "            op.write(table+\" match score \"+str(count)+\" of \"+str(total)+\"\\n\")"
   ]
  },
  {
   "cell_type": "code",
   "execution_count": 4,
   "metadata": {},
   "outputs": [],
   "source": [
    "def searchAll():\n",
    "    op = open(\"Output_match.txt\",'w')\n",
    "    op.write(\"Format of output is : Table_Name    Column_Name    Data_Type\\n\")\n",
    "    f=open(\"all_schemas_json.txt\",'r')\n",
    "    for line in f.readlines():\n",
    "        json_object=json.loads(line)\n",
    "        table=json_object[\"tablename\"]\n",
    "        schema=json_object[\"schema\"]\n",
    "        count=0\n",
    "        for col,dtype in schema.items():\n",
    "            if (col in input_schema) and (input_schema[col]==dtype):\n",
    "                count+=1\n",
    "                op.write(table+'\\t\\t\\t'+col+'\\t\\t\\t'+dtype+'\\n')\n",
    "        global total\n",
    "        if count != 0:\n",
    "            op.write(table+\" match score \"+str(count)+\" of \"+str(total)+\"\\n\")"
   ]
  },
  {
   "cell_type": "code",
   "execution_count": 6,
   "metadata": {},
   "outputs": [],
   "source": [
    "def get_synonyms(word):\n",
    "    meanings=set()\n",
    "    for synset in wordnet.synsets(word,pos=wordnet.NOUN):\n",
    "        for lemma in synset.lemmas():\n",
    "            meanings.add(lemma.name())\n",
    "    for synset in wordnet.synsets(i,pos=wordnet.NOUN):\n",
    "        for hypernym in synset.hypernyms():\n",
    "            meanings.add(hypernym.lemma_names()[0])\n",
    "    meanings.add(word)\n",
    "    return list(meanings)"
   ]
  },
  {
   "cell_type": "code",
   "execution_count": 7,
   "metadata": {},
   "outputs": [],
   "source": [
    "def generate_ontology():\n",
    "    ontology={}\n",
    "    for col in input_schema:\n",
    "        ontology[col]=get_synonyms(col)\n",
    "    return ontology"
   ]
  }
 ],
 "metadata": {
  "kernelspec": {
   "display_name": "Python 3",
   "language": "python",
   "name": "python3"
  },
  "language_info": {
   "codemirror_mode": {
    "name": "ipython",
    "version": 3
   },
   "file_extension": ".py",
   "mimetype": "text/x-python",
   "name": "python",
   "nbconvert_exporter": "python",
   "pygments_lexer": "ipython3",
   "version": "3.6.7"
  }
 },
 "nbformat": 4,
 "nbformat_minor": 2
}
