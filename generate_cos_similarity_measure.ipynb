{
 "cells": [
  {
   "cell_type": "code",
   "execution_count": 1,
   "metadata": {},
   "outputs": [],
   "source": [
    "import json\n",
    "import pandas as pd\n",
    "import numpy as np\n",
    "import math\n",
    "from nltk.corpus import wordnet"
   ]
  },
  {
   "cell_type": "code",
   "execution_count": 2,
   "metadata": {},
   "outputs": [],
   "source": [
    "ip=open(\"final_schema.txt\",'r')\n",
    "op1=open(\"column_and_category_match_scores.txt\",'w')"
   ]
  },
  {
   "cell_type": "code",
   "execution_count": 3,
   "metadata": {},
   "outputs": [],
   "source": [
    "all_schemas=[]\n",
    "for line in ip.readlines():\n",
    "    json_obj=json.loads(line)\n",
    "    all_schemas.append(json_obj)"
   ]
  },
  {
   "cell_type": "code",
   "execution_count": 4,
   "metadata": {},
   "outputs": [],
   "source": [
    "def get_synonyms(word):\n",
    "    meanings=set()\n",
    "    for synset in wordnet.synsets(word,pos=wordnet.NOUN):\n",
    "        for lemma in synset.lemmas():\n",
    "            meanings.add(lemma.name())\n",
    "    for synset in wordnet.synsets(word,pos=wordnet.NOUN):\n",
    "        for hypernym in synset.hypernyms():\n",
    "            meanings.add(hypernym.lemma_names()[0])\n",
    "    meanings.add(word)\n",
    "    return list(meanings)\n",
    "\n",
    "def generate_list_ontology(list1):\n",
    "    ontology={}\n",
    "    for word in list1:\n",
    "        ontology[word]=get_synonyms(word)\n",
    "    return ontology\n",
    "\n",
    "def generate_schema_ontology(input_schema):\n",
    "    ontology={}\n",
    "    for col in input_schema:\n",
    "        ontology[col]=get_synonyms(col)\n",
    "    return ontology"
   ]
  },
  {
   "cell_type": "code",
   "execution_count": 5,
   "metadata": {},
   "outputs": [],
   "source": [
    "def cos_sim(list1, list2):\n",
    "    terms = set(list1).union(list2)\n",
    "    intersect = set(list1) & set(list2)\n",
    "    others = (set(list1)-intersect).union(set(list2)-intersect)\n",
    "    product=0\n",
    "    for word in terms:\n",
    "        if word in intersect:\n",
    "            product+=1\n",
    "    l1mag = math.sqrt(len(list1))\n",
    "    l2mag = math.sqrt(len(list2))\n",
    "    if len(list1)==0 or len(list2)==0:\n",
    "        return 0.0\n",
    "    else:\n",
    "        return product / (l1mag * l2mag)"
   ]
  },
  {
   "cell_type": "code",
   "execution_count": 6,
   "metadata": {},
   "outputs": [],
   "source": [
    "length=len(all_schemas)\n",
    "column_cos_sim={}\n",
    "category_cos_sim={}\n",
    "for i in range(length-1):\n",
    "    a = all_schemas[i]\n",
    "    onto_sch = generate_schema_ontology(a[\"schema\"])\n",
    "    onto_cat = generate_list_ontology(a[\"categories\"])\n",
    "    for j in range(i+1,length):\n",
    "        b=all_schemas[j]\n",
    "        #finding schema(column) cosine similarity\n",
    "        la=[]\n",
    "        lb=[]\n",
    "        for col,dat_type in b[\"schema\"].items():\n",
    "            for col_a in a[\"schema\"]:\n",
    "                flag=0\n",
    "                la.append(col_a)\n",
    "                if (col_a==col) and (a[\"schema\"][col_a]==dat_type):\n",
    "                    lb.append(col_a)\n",
    "                    flag=1\n",
    "                else:\n",
    "                    for x in onto_sch[col_a]:\n",
    "                        if(col == x) and (a[\"schema\"][col_a]==dat_type):\n",
    "                            lb.append(col_a)\n",
    "                            flag=1\n",
    "                if flag!=1:\n",
    "                    lb.append(col)\n",
    "        la=set(la)\n",
    "        la=list(la)\n",
    "        lb=set(lb)\n",
    "        lb=list(lb)\n",
    "        col_sim = cos_sim(la,lb)\n",
    "#         if(col_sim!=0.0):\n",
    "#             txt=\"table 1: \"+a[\"filename\"]+\"\\t table 2: \"+b[\"filename\"]+\"\\t\\t\\t\"+str(col_sim)+'\\n'\n",
    "#         op1.write(txt)\n",
    "        \n",
    "        #finding category cosine similarity\n",
    "        lc=[]\n",
    "        ld=[]\n",
    "        for cat_b in b[\"categories\"]:\n",
    "            for cat_a in a[\"categories\"]:\n",
    "                lc.append(cat_a)\n",
    "                if (cat_b == cat_a) or (cat_b in onto_cat[cat_a]):\n",
    "                    ld.append(cat_a)\n",
    "                    flag=1\n",
    "            if flag!=1:\n",
    "                ld.append(cat_b)\n",
    "        lc=set(lc)\n",
    "        lc=list(lc)\n",
    "        ld=set(ld)\n",
    "        ld=list(ld)\n",
    "        cat_sim = cos_sim(lc,ld)\n",
    "#         if cat_sim!=0.0:\n",
    "#             txt=\"table 1: \"+a[\"filename\"]+\"\\t table 2: \"+b[\"filename\"]+\"\\t\\t\\t\"+str(cat_sim)+'\\n'\n",
    "#         op2.write(txt)\n",
    "        \n",
    "        #storing in a file\n",
    "        if cat_sim!=0.0 and col_sim!=0.0:\n",
    "            txt1=a[\"filename\"]+' : '+b[\"filename\"]\n",
    "            column_cos_sim[txt1]=col_sim\n",
    "            category_cos_sim[txt1]=cat_sim\n",
    "            \n",
    "json_op={}\n",
    "json_op[\"column_similarity\"]=column_cos_sim\n",
    "json_op[\"category_similarity\"]=category_cos_sim\n",
    "with open(\"cos_similarity.txt\",'w') as op_file:\n",
    "    json.dump(json_op,op_file)"
   ]
  },
  {
   "cell_type": "code",
   "execution_count": 7,
   "metadata": {},
   "outputs": [],
   "source": [
    "for entry in column_cos_sim:\n",
    "    op1.write(entry+'\\t\\t'+str(column_cos_sim[entry])+'\\t\\t'+str(category_cos_sim[entry])+'\\n')"
   ]
  },
  {
   "cell_type": "code",
   "execution_count": 8,
   "metadata": {},
   "outputs": [],
   "source": [
    "op1.close()"
   ]
  },
  {
   "cell_type": "code",
   "execution_count": null,
   "metadata": {},
   "outputs": [],
   "source": []
  }
 ],
 "metadata": {
  "kernelspec": {
   "display_name": "Python 3",
   "language": "python",
   "name": "python3"
  },
  "language_info": {
   "codemirror_mode": {
    "name": "ipython",
    "version": 3
   },
   "file_extension": ".py",
   "mimetype": "text/x-python",
   "name": "python",
   "nbconvert_exporter": "python",
   "pygments_lexer": "ipython3",
   "version": "3.6.7"
  }
 },
 "nbformat": 4,
 "nbformat_minor": 2
}
