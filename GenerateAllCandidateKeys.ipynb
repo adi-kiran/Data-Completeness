{
 "cells": [
  {
   "cell_type": "code",
   "execution_count": 9,
   "metadata": {},
   "outputs": [],
   "source": [
    "import pandas as pd\n",
    "import numpy as np\n",
    "import json"
   ]
  },
  {
   "cell_type": "code",
   "execution_count": 10,
   "metadata": {},
   "outputs": [],
   "source": [
    "def create_keys():\n",
    "    op = open(\"CandidateKeys.txt\",'w')\n",
    "    f=open(\"all_schemas_json.txt\",'r')\n",
    "    for line in f.readlines():\n",
    "        json_object=json.loads(line)\n",
    "        table=json_object[\"tablename\"]\n",
    "        schema=json_object[\"schema\"]\n",
    "        data = pd.read_csv(table)\n",
    "        table_len=len(data.index)\n",
    "        j_obj={\"tablename\":table,\"keys\":[]}\n",
    "        for i in schema:\n",
    "            a=set(data[i])\n",
    "            set_len=len(a)\n",
    "            if set_len==table_len:\n",
    "                if np.nan not in a:\n",
    "                    j_obj[\"keys\"].append(i)\n",
    "        jsonstr = json.dumps(j_obj)\n",
    "        op.write(jsonstr+\"\\n\")"
   ]
  },
  {
   "cell_type": "code",
   "execution_count": 11,
   "metadata": {},
   "outputs": [],
   "source": [
    "create_keys()"
   ]
  },
  {
   "cell_type": "code",
   "execution_count": null,
   "metadata": {},
   "outputs": [],
   "source": []
  }
 ],
 "metadata": {
  "kernelspec": {
   "display_name": "Python 3",
   "language": "python",
   "name": "python3"
  },
  "language_info": {
   "codemirror_mode": {
    "name": "ipython",
    "version": 3
   },
   "file_extension": ".py",
   "mimetype": "text/x-python",
   "name": "python",
   "nbconvert_exporter": "python",
   "pygments_lexer": "ipython3",
   "version": "3.6.7"
  }
 },
 "nbformat": 4,
 "nbformat_minor": 2
}
